{
 "cells": [
  {
   "cell_type": "markdown",
   "metadata": {},
   "source": [
    "* `n` is the number of qubits (2 or 3)\n",
    "  * `x_star` are the marked state (between 0 and 2**n), i.e. the states for which the oracle function returns 1. In general, the oracle should be a black box emitting 1 only on a given set of input states. Obviously, in our case, we have to build the oracle ourself. Note that at the moment multiple input states can be inserted, but the result are not really tested.\n",
    "  * `real` is True for a real backend, False (default) for the qasm simulator. If it is set to True, the online option is automatically set to True also.\n",
    "  * `online` is True for an online IBMQ device, False (default) otherwise.\n",
    "  * `backend_name` is the name of the backend you want to use; omit it if you want a default choice. Most of the time, you want to leave it blank. It makes sense only for an online experiment, because the only local backend is qasm.\n",
    "  \n",
    "For example, if you want to run an experiment on a real device with 3 qubits and selecting 5 as the x_star of the oracle, just run\n",
    "\n",
    "``` python\n",
    "import grover_test as gt\n",
    "\n",
    "gt.build_and_run(3, [5], real=True, online=True)\n",
    "```\n",
    "Note that we can also omit the online parameter, which is automatically True when a real device is used.\n",
    "  \n",
    "To run a local simulation with 2 qubits and 3 as the special x_star state \n",
    "\n",
    "``` python\n",
    "import grover_test as gt\n",
    "\n",
    "gt.build_and_run(2, [3])\n",
    "```"
   ]
  },
  {
   "cell_type": "code",
   "execution_count": 11,
   "metadata": {},
   "outputs": [
    {
     "name": "stdout",
     "output_type": "stream",
     "text": [
      "Importing modules\n",
      "Number of qubits is 3\n",
      "QuantumRegister(3, 'q8')\n",
      "n is  3\n",
      "Repetition of ORACLE+DIFFUSION boxes required: 2\n",
      "negating special state 001\n",
      "negating special state 001\n",
      "Local simulator backend\n",
      "Backend name is qasm_simulator_py; max_credits = 10, shots = 4098\n",
      "Importing modules\n",
      "Backend has 0 pending jobs\n",
      "Compiling ... \n",
      "Job id is fcd0844c-e9c7-400d-919a-cfbf2a9e9f28\n",
      "At this point, if any error occurs, you can always retrieve the job results using the backend name and the job id using the utils/retrieve_job_results.py script\n"
     ]
    },
    {
     "data": {
      "text/plain": [
       "{'101': 36,\n",
       " '100': 3867,\n",
       " '010': 27,\n",
       " '000': 32,\n",
       " '001': 35,\n",
       " '111': 40,\n",
       " '110': 30,\n",
       " '011': 31}"
      ]
     },
     "execution_count": 11,
     "metadata": {},
     "output_type": "execute_result"
    }
   ],
   "source": [
    "import grover_test as gt\n",
    "\n",
    "gt.build_and_run(3, [1])"
   ]
  },
  {
   "cell_type": "code",
   "execution_count": 5,
   "metadata": {},
   "outputs": [
    {
     "ename": "IndexError",
     "evalue": "list index out of range",
     "output_type": "error",
     "traceback": [
      "\u001b[1;31m---------------------------------------------------------------------------\u001b[0m",
      "\u001b[1;31mIndexError\u001b[0m                                Traceback (most recent call last)",
      "\u001b[1;32m<ipython-input-5-641c42d56e72>\u001b[0m in \u001b[0;36m<module>\u001b[1;34m\u001b[0m\n\u001b[0;32m      1\u001b[0m \u001b[0ma\u001b[0m \u001b[1;33m=\u001b[0m \u001b[1;33m[\u001b[0m\u001b[1;36m3\u001b[0m\u001b[1;33m]\u001b[0m\u001b[1;33m\u001b[0m\u001b[1;33m\u001b[0m\u001b[0m\n\u001b[1;32m----> 2\u001b[1;33m \u001b[0mprint\u001b[0m\u001b[1;33m(\u001b[0m\u001b[0ma\u001b[0m\u001b[1;33m[\u001b[0m\u001b[1;36m1\u001b[0m\u001b[1;33m]\u001b[0m\u001b[1;33m)\u001b[0m\u001b[1;33m\u001b[0m\u001b[1;33m\u001b[0m\u001b[0m\n\u001b[0m",
      "\u001b[1;31mIndexError\u001b[0m: list index out of range"
     ]
    }
   ],
   "source": [
    "a = [3]\n",
    "print(a[1])"
   ]
  },
  {
   "cell_type": "code",
   "execution_count": null,
   "metadata": {},
   "outputs": [],
   "source": []
  }
 ],
 "metadata": {
  "kernelspec": {
   "display_name": "Python (Qiskitenv)",
   "language": "python",
   "name": "qiskitenv"
  },
  "language_info": {
   "codemirror_mode": {
    "name": "ipython",
    "version": 3
   },
   "file_extension": ".py",
   "mimetype": "text/x-python",
   "name": "python",
   "nbconvert_exporter": "python",
   "pygments_lexer": "ipython3",
   "version": "3.7.1"
  }
 },
 "nbformat": 4,
 "nbformat_minor": 2
}
