{
 "cells": [
  {
   "cell_type": "code",
   "execution_count": 3,
   "metadata": {},
   "outputs": [
    {
     "name": "stdout",
     "output_type": "stream",
     "text": [
      "Aer backends:  [<QasmSimulatorPy('qasm_simulator_py') from Aer()>, <StatevectorSimulatorPy('statevector_simulator_py') from Aer()>, <UnitarySimulator('unitary_simulator') from Aer()>]\n",
      "First simulation:  COMPLETED\n",
      "Output:  {'00': 245, '11': 239, '10': 280, '01': 236}\n"
     ]
    },
    {
     "data": {
      "image/png": "[encoded data removed]",
      "text/plain": [
       "<Figure size 432x288 with 1 Axes>"
      ]
     },
     "metadata": {
      "needs_background": "light"
     },
     "output_type": "display_data"
    }
   ],
   "source": [
    "from qiskit import QuantumCircuit, ClassicalRegister, QuantumRegister, QISKitError\n",
    "from qiskit import available_backends, execute, Aer, backends, IBMQ\n",
    "from qiskit.backends.ibmq import least_busy\n",
    "from qiskit.tools.visualization import plot_histogram, circuit_drawer, plot_state\n",
    "import math\n",
    "\n",
    "# decide, on which backend you want to run the grover algorithmus\n",
    "backendIBMQ = False\n",
    "\n",
    "# define the number of your Qbits\n",
    "N = 2\n",
    "\n",
    "try:\n",
    "    # Create a Quantum-Register with N qubits / initialize N-Qbits.\n",
    "    q = QuantumRegister(N)\n",
    "    c = ClassicalRegister(N)\n",
    "    qc = QuantumCircuit(q, c)\n",
    "    \n",
    "    # Create superposition\n",
    "    qc.h(q[0])\n",
    "    qc.h(q[1])\n",
    "\n",
    "    n = 0\n",
    "    # avarage of ~O(sqrt(N)) repititions\n",
    "    while n < 1:\n",
    "        # apply the oracle\n",
    "        qc.h(q[1]);\n",
    "        qc.cx(q[0],q[1]);\n",
    "        qc.h(q[1]);\n",
    "        \n",
    "        qc.h(q[0]);\n",
    "        qc.h(q[1]);\n",
    "\n",
    "        \n",
    "        n = n + 1\n",
    "\n",
    "    # measure\n",
    "    qc.measure(q, c)\n",
    "      \n",
    "        \n",
    "except QISKitError as ex:\n",
    "        print('There was an error in the circuit!. Error = {}'.format(ex))\n",
    "\n",
    "# run the code on a real quantumcomputer from IBM\n",
    "if backendIBMQ:\n",
    "    # Authenticate for access to remote backends\n",
    "    try:\n",
    "        import Qconfig\n",
    "        IBMQ.load_accounts()    \n",
    "        try:\n",
    "            # See a list of available local simulators\n",
    "            least_busy_device = least_busy(IBMQ.backends(simulator=False))\n",
    "            print(\"Running on current least busy device: \", least_busy_device)\n",
    "\n",
    "            #running the job twice and get counts\n",
    "            result_exp1 = execute(qc, least_busy_device, shots = 500, max_credits = 10).result()\n",
    "            result_exp2 = execute(qc, least_busy_device, shots = 500, max_credits = 10).result()\n",
    "            counts01 = result_exp1.get_counts(qc)\n",
    "            counts02 = result_exp2.get_counts(qc)\n",
    "\n",
    "            # Show the results\n",
    "            print(\"First experiment: \", result_exp1)\n",
    "            print(\"Output: \", counts01)\n",
    "            print(\"Second experiment: \", result_exp2)\n",
    "            print(\"Output: \", counts02)\n",
    "            legend = ['First experiment', 'Second experiment']\n",
    "            plot_histogram([counts01,counts02], legend=legend, options={'label':'binary'})\n",
    "            circuit_drawer(qc)\n",
    "        except:\n",
    "            print(\"All devices are currently unavailable. Try again later.\")\n",
    "    except:\n",
    "        print(\"\"\"WARNING: There's no connection with the API for remote backends.\n",
    "                 Have you initialized a file with your personal token?\n",
    "                 For now, there's only access to local simulator backends...\"\"\")\n",
    "        \n",
    "# or run the code on your own system with the simulation backend Aer\n",
    "else:\n",
    "    # See a list of available local simulators\n",
    "    print(\"Aer backends: \", Aer.backends())\n",
    "    backend_sim = Aer.get_backend('qasm_simulator')\n",
    "\n",
    "    # Compile and run the Quantum circuit on a simulator backend\n",
    "    sim_result1 = execute(qc, backend_sim, shots=1000).result()\n",
    "    #sim_result2 = execute(qc, backend_sim, shots=1000).result()\n",
    "    counts1 = sim_result1.get_counts(qc)\n",
    "    #counts2 = sim_result2.get_counts(qc)\n",
    "\n",
    "    # Show the results as text and plot\n",
    "    print(\"First simulation: \", sim_result1)\n",
    "    print(\"Output: \", counts1)\n",
    "    #print(\"Second simulation: \", sim_result2)\n",
    "    #print(\"Output: \", counts2)\n",
    "    #legend = ['First execution', 'Second execution']\n",
    "    plot_histogram(counts1)\n",
    "    circuit_drawer(qc)"
   ]
  },
  {
   "cell_type": "code",
   "execution_count": 4,
   "metadata": {},
   "outputs": [
    {
     "ename": "ImportError",
     "evalue": "cannot import name 'QuantumProgram' from 'qiskit' (C:\\Users\\also\\AppData\\Local\\Continuum\\anaconda3\\envs\\Qiskitenv\\lib\\site-packages\\qiskit\\__init__.py)",
     "output_type": "error",
     "traceback": [
      "\u001b[1;31m---------------------------------------------------------------------------\u001b[0m",
      "\u001b[1;31mImportError\u001b[0m                               Traceback (most recent call last)",
      "\u001b[1;32m<ipython-input-4-8d987a3991ab>\u001b[0m in \u001b[0;36m<module>\u001b[1;34m\u001b[0m\n\u001b[1;32m----> 1\u001b[1;33m \u001b[1;32mfrom\u001b[0m \u001b[0mqiskit\u001b[0m \u001b[1;32mimport\u001b[0m \u001b[0mQuantumProgram\u001b[0m\u001b[1;33m\u001b[0m\u001b[1;33m\u001b[0m\u001b[0m\n\u001b[0m\u001b[0;32m      2\u001b[0m \u001b[1;32mfrom\u001b[0m \u001b[0mqiskit\u001b[0m\u001b[1;33m.\u001b[0m\u001b[0mtools\u001b[0m\u001b[1;33m.\u001b[0m\u001b[0mvisualization\u001b[0m \u001b[1;32mimport\u001b[0m \u001b[0mcircuit_drawer\u001b[0m\u001b[1;33m\u001b[0m\u001b[1;33m\u001b[0m\u001b[0m\n\u001b[0;32m      3\u001b[0m \u001b[1;33m\u001b[0m\u001b[0m\n\u001b[0;32m      4\u001b[0m \u001b[0mqp\u001b[0m \u001b[1;33m=\u001b[0m \u001b[0mQuantumProgram\u001b[0m\u001b[1;33m(\u001b[0m\u001b[1;33m)\u001b[0m\u001b[1;33m\u001b[0m\u001b[1;33m\u001b[0m\u001b[0m\n\u001b[0;32m      5\u001b[0m \u001b[0mqr\u001b[0m \u001b[1;33m=\u001b[0m \u001b[0mqp\u001b[0m\u001b[1;33m.\u001b[0m\u001b[0mcreate_quantum_register\u001b[0m\u001b[1;33m(\u001b[0m\u001b[1;34m'qr'\u001b[0m\u001b[1;33m,\u001b[0m \u001b[1;36m3\u001b[0m\u001b[1;33m)\u001b[0m\u001b[1;33m\u001b[0m\u001b[1;33m\u001b[0m\u001b[0m\n",
      "\u001b[1;31mImportError\u001b[0m: cannot import name 'QuantumProgram' from 'qiskit' (C:\\Users\\also\\AppData\\Local\\Continuum\\anaconda3\\envs\\Qiskitenv\\lib\\site-packages\\qiskit\\__init__.py)"
     ]
    }
   ],
   "source": [
    "\n",
    "from qiskit.tools.visualization import circuit_drawer\n",
    "\n",
    "qp = QuantumProgram()\n",
    "qr = qp.create_quantum_register('qr', 3)\n",
    "cr = qp.create_classical_register('cr', 1)\n",
    "qc = qp.create_circuit('test', [qr], [cr])\n",
    "qc.cu1(2.3, qr[0], qr[2])\n",
    "qc.measure(qr[1], cr[0])\n",
    "\n",
    "circuit_drawer(qc)"
   ]
  },
  {
   "cell_type": "code",
   "execution_count": null,
   "metadata": {},
   "outputs": [],
   "source": []
  }
 ],
 "metadata": {
  "kernelspec": {
   "display_name": "Python (Qiskitenv)",
   "language": "python",
   "name": "qiskitenv"
  },
  "language_info": {
   "codemirror_mode": {
    "name": "ipython",
    "version": 3
   },
   "file_extension": ".py",
   "mimetype": "text/x-python",
   "name": "python",
   "nbconvert_exporter": "python",
   "pygments_lexer": "ipython3",
   "version": "3.7.1"
  }
 },
 "nbformat": 4,
 "nbformat_minor": 2
}
